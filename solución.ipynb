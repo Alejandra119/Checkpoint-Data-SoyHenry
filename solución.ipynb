{
 "cells": [
  {
   "attachments": {},
   "cell_type": "markdown",
   "metadata": {},
   "source": [
    "## Ejercicio 1"
   ]
  },
  {
   "cell_type": "code",
   "execution_count": 3,
   "metadata": {},
   "outputs": [],
   "source": [
    "#    Debes utilizar Pandas para ingestar en un objeto Dataframe el contenido del archivo provisto\n",
    "#     \"Fuentes_Consumo_Energia.csv\".\n",
    "#     Esta función debe informar la cantidad de registros cuya entidad sean Colombia o México retornando ese valor en un dato\n",
    "#     tupla (Colombia, México).\n",
    "#     Pista averiguar la funcion Shape\n",
    "\n"
   ]
  },
  {
   "cell_type": "code",
   "execution_count": 13,
   "metadata": {},
   "outputs": [],
   "source": [
    "import pandas as pd\n",
    "import numpy as np"
   ]
  },
  {
   "cell_type": "code",
   "execution_count": 14,
   "metadata": {},
   "outputs": [
    {
     "name": "stdout",
     "output_type": "stream",
     "text": [
      "<class 'pandas.core.frame.DataFrame'>\n",
      "RangeIndex: 5190 entries, 0 to 5189\n",
      "Data columns (total 11 columns):\n",
      " #   Column                  Non-Null Count  Dtype  \n",
      "---  ------                  --------------  -----  \n",
      " 0   Entity                  5190 non-null   object \n",
      " 1   Code                    4145 non-null   object \n",
      " 2   Year                    5190 non-null   int64  \n",
      " 3   Coal_Consumption_EJ     5170 non-null   float64\n",
      " 4   Gas_Consumption_EJ      5170 non-null   float64\n",
      " 5   Geo_Biomass_Other_TWh   5115 non-null   float64\n",
      " 6   Hydro_Generation_TWh    5170 non-null   float64\n",
      " 7   Nuclear_Generation_TWh  5170 non-null   float64\n",
      " 8   Solar_Generation_TWh    5170 non-null   float64\n",
      " 9   Wind_Generation_TWh     5170 non-null   float64\n",
      " 10  Oil_Consumption_EJ      5184 non-null   float64\n",
      "dtypes: float64(8), int64(1), object(2)\n",
      "memory usage: 446.1+ KB\n"
     ]
    }
   ],
   "source": [
    "df= pd.read_csv('datasets/Fuentes_Consumo_Energia.csv',sep=',')\n",
    "df.info()\n"
   ]
  },
  {
   "cell_type": "code",
   "execution_count": 15,
   "metadata": {},
   "outputs": [
    {
     "data": {
      "text/html": [
       "<div>\n",
       "<style scoped>\n",
       "    .dataframe tbody tr th:only-of-type {\n",
       "        vertical-align: middle;\n",
       "    }\n",
       "\n",
       "    .dataframe tbody tr th {\n",
       "        vertical-align: top;\n",
       "    }\n",
       "\n",
       "    .dataframe thead th {\n",
       "        text-align: right;\n",
       "    }\n",
       "</style>\n",
       "<table border=\"1\" class=\"dataframe\">\n",
       "  <thead>\n",
       "    <tr style=\"text-align: right;\">\n",
       "      <th></th>\n",
       "      <th>Entity</th>\n",
       "      <th>Code</th>\n",
       "      <th>Year</th>\n",
       "      <th>Coal_Consumption_EJ</th>\n",
       "      <th>Gas_Consumption_EJ</th>\n",
       "      <th>Geo_Biomass_Other_TWh</th>\n",
       "      <th>Hydro_Generation_TWh</th>\n",
       "      <th>Nuclear_Generation_TWh</th>\n",
       "      <th>Solar_Generation_TWh</th>\n",
       "      <th>Wind_Generation_TWh</th>\n",
       "      <th>Oil_Consumption_EJ</th>\n",
       "    </tr>\n",
       "  </thead>\n",
       "  <tbody>\n",
       "    <tr>\n",
       "      <th>4526</th>\n",
       "      <td>Thailand</td>\n",
       "      <td>THA</td>\n",
       "      <td>1976</td>\n",
       "      <td>0.006692</td>\n",
       "      <td>0.000000</td>\n",
       "      <td>0.000</td>\n",
       "      <td>3.637</td>\n",
       "      <td>0.000</td>\n",
       "      <td>0.0</td>\n",
       "      <td>0.0</td>\n",
       "      <td>0.373215</td>\n",
       "    </tr>\n",
       "    <tr>\n",
       "      <th>2173</th>\n",
       "      <td>Italy</td>\n",
       "      <td>ITA</td>\n",
       "      <td>1968</td>\n",
       "      <td>0.398667</td>\n",
       "      <td>0.371857</td>\n",
       "      <td>3.617</td>\n",
       "      <td>42.677</td>\n",
       "      <td>2.576</td>\n",
       "      <td>0.0</td>\n",
       "      <td>0.0</td>\n",
       "      <td>2.958676</td>\n",
       "    </tr>\n",
       "  </tbody>\n",
       "</table>\n",
       "</div>"
      ],
      "text/plain": [
       "        Entity Code  Year  Coal_Consumption_EJ  Gas_Consumption_EJ  \\\n",
       "4526  Thailand  THA  1976             0.006692            0.000000   \n",
       "2173     Italy  ITA  1968             0.398667            0.371857   \n",
       "\n",
       "      Geo_Biomass_Other_TWh  Hydro_Generation_TWh  Nuclear_Generation_TWh  \\\n",
       "4526                  0.000                 3.637                   0.000   \n",
       "2173                  3.617                42.677                   2.576   \n",
       "\n",
       "      Solar_Generation_TWh  Wind_Generation_TWh  Oil_Consumption_EJ  \n",
       "4526                   0.0                  0.0            0.373215  \n",
       "2173                   0.0                  0.0            2.958676  "
      ]
     },
     "execution_count": 15,
     "metadata": {},
     "output_type": "execute_result"
    }
   ],
   "source": [
    "df.sample(2)"
   ]
  },
  {
   "cell_type": "code",
   "execution_count": 46,
   "metadata": {},
   "outputs": [],
   "source": [
    "mascaraME=df[(df['Entity']=='Mexico')].shape"
   ]
  },
  {
   "cell_type": "code",
   "execution_count": 42,
   "metadata": {},
   "outputs": [
    {
     "data": {
      "text/plain": [
       "(55, 11)"
      ]
     },
     "execution_count": 42,
     "metadata": {},
     "output_type": "execute_result"
    }
   ],
   "source": [
    "mascaraME.shape"
   ]
  },
  {
   "cell_type": "code",
   "execution_count": 48,
   "metadata": {},
   "outputs": [],
   "source": [
    "mascaraCOL=df[(df['Entity']=='Colombia')].shape"
   ]
  },
  {
   "cell_type": "code",
   "execution_count": 44,
   "metadata": {},
   "outputs": [
    {
     "data": {
      "text/plain": [
       "(55, 11)"
      ]
     },
     "execution_count": 44,
     "metadata": {},
     "output_type": "execute_result"
    }
   ],
   "source": [
    "mascaraCOL.shape"
   ]
  },
  {
   "cell_type": "code",
   "execution_count": 49,
   "metadata": {},
   "outputs": [
    {
     "name": "stdout",
     "output_type": "stream",
     "text": [
      "(55, 55)\n"
     ]
    }
   ],
   "source": [
    "print((mascaraCOL[0],mascaraME[0]))"
   ]
  },
  {
   "cell_type": "code",
   "execution_count": 51,
   "metadata": {},
   "outputs": [],
   "source": [
    "def Ret_Pregunta01():\n",
    "    mascaraCOL=df[(df['Entity']=='Colombia')].shape\n",
    "    mascaraME=df[(df['Entity']=='Mexico')].shape\n",
    "    resultado=((mascaraCOL[0],mascaraME[0]))\n",
    "    return (resultado)"
   ]
  },
  {
   "attachments": {},
   "cell_type": "markdown",
   "metadata": {},
   "source": [
    "### Ejercicio 2"
   ]
  },
  {
   "cell_type": "code",
   "execution_count": null,
   "metadata": {},
   "outputs": [],
   "source": [
    "# Debes utilizar Pandas para ingestar en un objeto Dataframe el contenido del archivo provisto\n",
    "# \"Fuentes_Consumo_Energia.csv\".\n",
    "# Esta función debe eliminar las columnas 'Code' y 'Entity' y luego informar la cantidad de columnas\n",
    "# retornando ese valor en un dato de tipo entero.\n"
   ]
  },
  {
   "cell_type": "code",
   "execution_count": 64,
   "metadata": {},
   "outputs": [
    {
     "data": {
      "text/html": [
       "<div>\n",
       "<style scoped>\n",
       "    .dataframe tbody tr th:only-of-type {\n",
       "        vertical-align: middle;\n",
       "    }\n",
       "\n",
       "    .dataframe tbody tr th {\n",
       "        vertical-align: top;\n",
       "    }\n",
       "\n",
       "    .dataframe thead th {\n",
       "        text-align: right;\n",
       "    }\n",
       "</style>\n",
       "<table border=\"1\" class=\"dataframe\">\n",
       "  <thead>\n",
       "    <tr style=\"text-align: right;\">\n",
       "      <th></th>\n",
       "      <th>Year</th>\n",
       "      <th>Coal_Consumption_EJ</th>\n",
       "      <th>Gas_Consumption_EJ</th>\n",
       "      <th>Geo_Biomass_Other_TWh</th>\n",
       "      <th>Hydro_Generation_TWh</th>\n",
       "      <th>Nuclear_Generation_TWh</th>\n",
       "      <th>Solar_Generation_TWh</th>\n",
       "      <th>Wind_Generation_TWh</th>\n",
       "      <th>Oil_Consumption_EJ</th>\n",
       "    </tr>\n",
       "  </thead>\n",
       "  <tbody>\n",
       "    <tr>\n",
       "      <th>0</th>\n",
       "      <td>1965</td>\n",
       "      <td>1.164586</td>\n",
       "      <td>0.034358</td>\n",
       "      <td>0.000000</td>\n",
       "      <td>13.905635</td>\n",
       "      <td>0.000000</td>\n",
       "      <td>0.000000</td>\n",
       "      <td>0.000000</td>\n",
       "      <td>1.173241</td>\n",
       "    </tr>\n",
       "    <tr>\n",
       "      <th>1</th>\n",
       "      <td>1966</td>\n",
       "      <td>1.163240</td>\n",
       "      <td>0.038412</td>\n",
       "      <td>0.000000</td>\n",
       "      <td>15.510004</td>\n",
       "      <td>0.000000</td>\n",
       "      <td>0.000000</td>\n",
       "      <td>0.000000</td>\n",
       "      <td>1.284154</td>\n",
       "    </tr>\n",
       "    <tr>\n",
       "      <th>2</th>\n",
       "      <td>1967</td>\n",
       "      <td>1.189050</td>\n",
       "      <td>0.037964</td>\n",
       "      <td>0.000000</td>\n",
       "      <td>16.190636</td>\n",
       "      <td>0.000000</td>\n",
       "      <td>0.000000</td>\n",
       "      <td>0.000000</td>\n",
       "      <td>1.273799</td>\n",
       "    </tr>\n",
       "    <tr>\n",
       "      <th>3</th>\n",
       "      <td>1968</td>\n",
       "      <td>1.236646</td>\n",
       "      <td>0.038480</td>\n",
       "      <td>0.000000</td>\n",
       "      <td>18.938341</td>\n",
       "      <td>0.000000</td>\n",
       "      <td>0.000000</td>\n",
       "      <td>0.000000</td>\n",
       "      <td>1.344219</td>\n",
       "    </tr>\n",
       "    <tr>\n",
       "      <th>4</th>\n",
       "      <td>1969</td>\n",
       "      <td>1.247915</td>\n",
       "      <td>0.044971</td>\n",
       "      <td>0.000000</td>\n",
       "      <td>22.100890</td>\n",
       "      <td>0.000000</td>\n",
       "      <td>0.000000</td>\n",
       "      <td>0.000000</td>\n",
       "      <td>1.362729</td>\n",
       "    </tr>\n",
       "    <tr>\n",
       "      <th>...</th>\n",
       "      <td>...</td>\n",
       "      <td>...</td>\n",
       "      <td>...</td>\n",
       "      <td>...</td>\n",
       "      <td>...</td>\n",
       "      <td>...</td>\n",
       "      <td>...</td>\n",
       "      <td>...</td>\n",
       "      <td>...</td>\n",
       "    </tr>\n",
       "    <tr>\n",
       "      <th>5185</th>\n",
       "      <td>2015</td>\n",
       "      <td>157.838896</td>\n",
       "      <td>125.208335</td>\n",
       "      <td>538.277477</td>\n",
       "      <td>3884.619692</td>\n",
       "      <td>2575.763561</td>\n",
       "      <td>256.838045</td>\n",
       "      <td>831.567439</td>\n",
       "      <td>183.210968</td>\n",
       "    </tr>\n",
       "    <tr>\n",
       "      <th>5186</th>\n",
       "      <td>2016</td>\n",
       "      <td>155.504177</td>\n",
       "      <td>128.124027</td>\n",
       "      <td>547.865908</td>\n",
       "      <td>4012.947981</td>\n",
       "      <td>2614.905286</td>\n",
       "      <td>328.237428</td>\n",
       "      <td>963.774036</td>\n",
       "      <td>186.912413</td>\n",
       "    </tr>\n",
       "    <tr>\n",
       "      <th>5187</th>\n",
       "      <td>2017</td>\n",
       "      <td>156.094106</td>\n",
       "      <td>131.708206</td>\n",
       "      <td>582.893132</td>\n",
       "      <td>4065.869592</td>\n",
       "      <td>2638.554157</td>\n",
       "      <td>446.946764</td>\n",
       "      <td>1140.971268</td>\n",
       "      <td>189.242920</td>\n",
       "    </tr>\n",
       "    <tr>\n",
       "      <th>5188</th>\n",
       "      <td>2018</td>\n",
       "      <td>158.793935</td>\n",
       "      <td>138.659832</td>\n",
       "      <td>615.038237</td>\n",
       "      <td>4171.404951</td>\n",
       "      <td>2700.373917</td>\n",
       "      <td>582.754345</td>\n",
       "      <td>1270.164880</td>\n",
       "      <td>191.451896</td>\n",
       "    </tr>\n",
       "    <tr>\n",
       "      <th>5189</th>\n",
       "      <td>2019</td>\n",
       "      <td>157.857047</td>\n",
       "      <td>141.452770</td>\n",
       "      <td>651.811211</td>\n",
       "      <td>4222.214992</td>\n",
       "      <td>2795.961529</td>\n",
       "      <td>724.086506</td>\n",
       "      <td>1429.619982</td>\n",
       "      <td>193.031574</td>\n",
       "    </tr>\n",
       "  </tbody>\n",
       "</table>\n",
       "<p>5190 rows × 9 columns</p>\n",
       "</div>"
      ],
      "text/plain": [
       "      Year  Coal_Consumption_EJ  Gas_Consumption_EJ  Geo_Biomass_Other_TWh  \\\n",
       "0     1965             1.164586            0.034358               0.000000   \n",
       "1     1966             1.163240            0.038412               0.000000   \n",
       "2     1967             1.189050            0.037964               0.000000   \n",
       "3     1968             1.236646            0.038480               0.000000   \n",
       "4     1969             1.247915            0.044971               0.000000   \n",
       "...    ...                  ...                 ...                    ...   \n",
       "5185  2015           157.838896          125.208335             538.277477   \n",
       "5186  2016           155.504177          128.124027             547.865908   \n",
       "5187  2017           156.094106          131.708206             582.893132   \n",
       "5188  2018           158.793935          138.659832             615.038237   \n",
       "5189  2019           157.857047          141.452770             651.811211   \n",
       "\n",
       "      Hydro_Generation_TWh  Nuclear_Generation_TWh  Solar_Generation_TWh  \\\n",
       "0                13.905635                0.000000              0.000000   \n",
       "1                15.510004                0.000000              0.000000   \n",
       "2                16.190636                0.000000              0.000000   \n",
       "3                18.938341                0.000000              0.000000   \n",
       "4                22.100890                0.000000              0.000000   \n",
       "...                    ...                     ...                   ...   \n",
       "5185           3884.619692             2575.763561            256.838045   \n",
       "5186           4012.947981             2614.905286            328.237428   \n",
       "5187           4065.869592             2638.554157            446.946764   \n",
       "5188           4171.404951             2700.373917            582.754345   \n",
       "5189           4222.214992             2795.961529            724.086506   \n",
       "\n",
       "      Wind_Generation_TWh  Oil_Consumption_EJ  \n",
       "0                0.000000            1.173241  \n",
       "1                0.000000            1.284154  \n",
       "2                0.000000            1.273799  \n",
       "3                0.000000            1.344219  \n",
       "4                0.000000            1.362729  \n",
       "...                   ...                 ...  \n",
       "5185           831.567439          183.210968  \n",
       "5186           963.774036          186.912413  \n",
       "5187          1140.971268          189.242920  \n",
       "5188          1270.164880          191.451896  \n",
       "5189          1429.619982          193.031574  \n",
       "\n",
       "[5190 rows x 9 columns]"
      ]
     },
     "execution_count": 64,
     "metadata": {},
     "output_type": "execute_result"
    }
   ],
   "source": [
    "df= pd.read_csv('datasets/Fuentes_Consumo_Energia.csv',sep=',')\n",
    "df.drop(['Code','Entity'],inplace=True,axis=1)\n",
    "df"
   ]
  },
  {
   "cell_type": "code",
   "execution_count": 77,
   "metadata": {},
   "outputs": [
    {
     "name": "stdout",
     "output_type": "stream",
     "text": [
      "9\n"
     ]
    }
   ],
   "source": [
    "columnas=df.shape\n",
    "print(int(columnas[1]))\n"
   ]
  },
  {
   "cell_type": "code",
   "execution_count": null,
   "metadata": {},
   "outputs": [],
   "source": [
    "def Ret_Pregunta02():\n",
    "    df= pd.read_csv('datasets/Fuentes_Consumo_Energia.csv',sep=',')\n",
    "    df.drop(['Code','Entity'],inplace=True,axis=1)\n",
    "    columnas=df.shape\n",
    "    return (int(columnas[1]))"
   ]
  },
  {
   "attachments": {},
   "cell_type": "markdown",
   "metadata": {},
   "source": [
    "### Ejercicio 3"
   ]
  },
  {
   "cell_type": "code",
   "execution_count": null,
   "metadata": {},
   "outputs": [],
   "source": [
    "\n",
    "# Debes utilizar Pandas para ingestar en un objeto Dataframe el contenido del archivo provisto\n",
    "# \"Fuentes_Consumo_Energia.csv\".\n",
    "# Esta función debe informar la cantidad de registros de la columna Year sin tener en cuenta aquellos con valores faltantes\n",
    "# retornando ese valor en un dato de tipo entero.\n"
   ]
  },
  {
   "cell_type": "code",
   "execution_count": 84,
   "metadata": {},
   "outputs": [
    {
     "data": {
      "text/html": [
       "<div>\n",
       "<style scoped>\n",
       "    .dataframe tbody tr th:only-of-type {\n",
       "        vertical-align: middle;\n",
       "    }\n",
       "\n",
       "    .dataframe tbody tr th {\n",
       "        vertical-align: top;\n",
       "    }\n",
       "\n",
       "    .dataframe thead th {\n",
       "        text-align: right;\n",
       "    }\n",
       "</style>\n",
       "<table border=\"1\" class=\"dataframe\">\n",
       "  <thead>\n",
       "    <tr style=\"text-align: right;\">\n",
       "      <th></th>\n",
       "      <th>Entity</th>\n",
       "      <th>Code</th>\n",
       "      <th>Year</th>\n",
       "      <th>Coal_Consumption_EJ</th>\n",
       "      <th>Gas_Consumption_EJ</th>\n",
       "      <th>Geo_Biomass_Other_TWh</th>\n",
       "      <th>Hydro_Generation_TWh</th>\n",
       "      <th>Nuclear_Generation_TWh</th>\n",
       "      <th>Solar_Generation_TWh</th>\n",
       "      <th>Wind_Generation_TWh</th>\n",
       "      <th>Oil_Consumption_EJ</th>\n",
       "    </tr>\n",
       "  </thead>\n",
       "  <tbody>\n",
       "    <tr>\n",
       "      <th>55</th>\n",
       "      <td>Algeria</td>\n",
       "      <td>DZA</td>\n",
       "      <td>1965</td>\n",
       "      <td>0.002931</td>\n",
       "      <td>0.026750</td>\n",
       "      <td>0.000000</td>\n",
       "      <td>0.400000</td>\n",
       "      <td>0.000000</td>\n",
       "      <td>0.000000</td>\n",
       "      <td>0.000000</td>\n",
       "      <td>0.055459</td>\n",
       "    </tr>\n",
       "    <tr>\n",
       "      <th>56</th>\n",
       "      <td>Algeria</td>\n",
       "      <td>DZA</td>\n",
       "      <td>1966</td>\n",
       "      <td>0.002847</td>\n",
       "      <td>0.027789</td>\n",
       "      <td>0.000000</td>\n",
       "      <td>0.355000</td>\n",
       "      <td>0.000000</td>\n",
       "      <td>0.000000</td>\n",
       "      <td>0.000000</td>\n",
       "      <td>0.072982</td>\n",
       "    </tr>\n",
       "    <tr>\n",
       "      <th>57</th>\n",
       "      <td>Algeria</td>\n",
       "      <td>DZA</td>\n",
       "      <td>1967</td>\n",
       "      <td>0.002177</td>\n",
       "      <td>0.026958</td>\n",
       "      <td>0.000000</td>\n",
       "      <td>0.410000</td>\n",
       "      <td>0.000000</td>\n",
       "      <td>0.000000</td>\n",
       "      <td>0.000000</td>\n",
       "      <td>0.068191</td>\n",
       "    </tr>\n",
       "    <tr>\n",
       "      <th>58</th>\n",
       "      <td>Algeria</td>\n",
       "      <td>DZA</td>\n",
       "      <td>1968</td>\n",
       "      <td>0.002303</td>\n",
       "      <td>0.028344</td>\n",
       "      <td>0.000000</td>\n",
       "      <td>0.563000</td>\n",
       "      <td>0.000000</td>\n",
       "      <td>0.000000</td>\n",
       "      <td>0.000000</td>\n",
       "      <td>0.072602</td>\n",
       "    </tr>\n",
       "    <tr>\n",
       "      <th>59</th>\n",
       "      <td>Algeria</td>\n",
       "      <td>DZA</td>\n",
       "      <td>1969</td>\n",
       "      <td>0.002931</td>\n",
       "      <td>0.037266</td>\n",
       "      <td>0.000000</td>\n",
       "      <td>0.361000</td>\n",
       "      <td>0.000000</td>\n",
       "      <td>0.000000</td>\n",
       "      <td>0.000000</td>\n",
       "      <td>0.076701</td>\n",
       "    </tr>\n",
       "    <tr>\n",
       "      <th>...</th>\n",
       "      <td>...</td>\n",
       "      <td>...</td>\n",
       "      <td>...</td>\n",
       "      <td>...</td>\n",
       "      <td>...</td>\n",
       "      <td>...</td>\n",
       "      <td>...</td>\n",
       "      <td>...</td>\n",
       "      <td>...</td>\n",
       "      <td>...</td>\n",
       "      <td>...</td>\n",
       "    </tr>\n",
       "    <tr>\n",
       "      <th>5185</th>\n",
       "      <td>World</td>\n",
       "      <td>OWID_WRL</td>\n",
       "      <td>2015</td>\n",
       "      <td>157.838896</td>\n",
       "      <td>125.208335</td>\n",
       "      <td>538.277477</td>\n",
       "      <td>3884.619692</td>\n",
       "      <td>2575.763561</td>\n",
       "      <td>256.838045</td>\n",
       "      <td>831.567439</td>\n",
       "      <td>183.210968</td>\n",
       "    </tr>\n",
       "    <tr>\n",
       "      <th>5186</th>\n",
       "      <td>World</td>\n",
       "      <td>OWID_WRL</td>\n",
       "      <td>2016</td>\n",
       "      <td>155.504177</td>\n",
       "      <td>128.124027</td>\n",
       "      <td>547.865908</td>\n",
       "      <td>4012.947981</td>\n",
       "      <td>2614.905286</td>\n",
       "      <td>328.237428</td>\n",
       "      <td>963.774036</td>\n",
       "      <td>186.912413</td>\n",
       "    </tr>\n",
       "    <tr>\n",
       "      <th>5187</th>\n",
       "      <td>World</td>\n",
       "      <td>OWID_WRL</td>\n",
       "      <td>2017</td>\n",
       "      <td>156.094106</td>\n",
       "      <td>131.708206</td>\n",
       "      <td>582.893132</td>\n",
       "      <td>4065.869592</td>\n",
       "      <td>2638.554157</td>\n",
       "      <td>446.946764</td>\n",
       "      <td>1140.971268</td>\n",
       "      <td>189.242920</td>\n",
       "    </tr>\n",
       "    <tr>\n",
       "      <th>5188</th>\n",
       "      <td>World</td>\n",
       "      <td>OWID_WRL</td>\n",
       "      <td>2018</td>\n",
       "      <td>158.793935</td>\n",
       "      <td>138.659832</td>\n",
       "      <td>615.038237</td>\n",
       "      <td>4171.404951</td>\n",
       "      <td>2700.373917</td>\n",
       "      <td>582.754345</td>\n",
       "      <td>1270.164880</td>\n",
       "      <td>191.451896</td>\n",
       "    </tr>\n",
       "    <tr>\n",
       "      <th>5189</th>\n",
       "      <td>World</td>\n",
       "      <td>OWID_WRL</td>\n",
       "      <td>2019</td>\n",
       "      <td>157.857047</td>\n",
       "      <td>141.452770</td>\n",
       "      <td>651.811211</td>\n",
       "      <td>4222.214992</td>\n",
       "      <td>2795.961529</td>\n",
       "      <td>724.086506</td>\n",
       "      <td>1429.619982</td>\n",
       "      <td>193.031574</td>\n",
       "    </tr>\n",
       "  </tbody>\n",
       "</table>\n",
       "<p>4139 rows × 11 columns</p>\n",
       "</div>"
      ],
      "text/plain": [
       "       Entity      Code  Year  Coal_Consumption_EJ  Gas_Consumption_EJ  \\\n",
       "55    Algeria       DZA  1965             0.002931            0.026750   \n",
       "56    Algeria       DZA  1966             0.002847            0.027789   \n",
       "57    Algeria       DZA  1967             0.002177            0.026958   \n",
       "58    Algeria       DZA  1968             0.002303            0.028344   \n",
       "59    Algeria       DZA  1969             0.002931            0.037266   \n",
       "...       ...       ...   ...                  ...                 ...   \n",
       "5185    World  OWID_WRL  2015           157.838896          125.208335   \n",
       "5186    World  OWID_WRL  2016           155.504177          128.124027   \n",
       "5187    World  OWID_WRL  2017           156.094106          131.708206   \n",
       "5188    World  OWID_WRL  2018           158.793935          138.659832   \n",
       "5189    World  OWID_WRL  2019           157.857047          141.452770   \n",
       "\n",
       "      Geo_Biomass_Other_TWh  Hydro_Generation_TWh  Nuclear_Generation_TWh  \\\n",
       "55                 0.000000              0.400000                0.000000   \n",
       "56                 0.000000              0.355000                0.000000   \n",
       "57                 0.000000              0.410000                0.000000   \n",
       "58                 0.000000              0.563000                0.000000   \n",
       "59                 0.000000              0.361000                0.000000   \n",
       "...                     ...                   ...                     ...   \n",
       "5185             538.277477           3884.619692             2575.763561   \n",
       "5186             547.865908           4012.947981             2614.905286   \n",
       "5187             582.893132           4065.869592             2638.554157   \n",
       "5188             615.038237           4171.404951             2700.373917   \n",
       "5189             651.811211           4222.214992             2795.961529   \n",
       "\n",
       "      Solar_Generation_TWh  Wind_Generation_TWh  Oil_Consumption_EJ  \n",
       "55                0.000000             0.000000            0.055459  \n",
       "56                0.000000             0.000000            0.072982  \n",
       "57                0.000000             0.000000            0.068191  \n",
       "58                0.000000             0.000000            0.072602  \n",
       "59                0.000000             0.000000            0.076701  \n",
       "...                    ...                  ...                 ...  \n",
       "5185            256.838045           831.567439          183.210968  \n",
       "5186            328.237428           963.774036          186.912413  \n",
       "5187            446.946764          1140.971268          189.242920  \n",
       "5188            582.754345          1270.164880          191.451896  \n",
       "5189            724.086506          1429.619982          193.031574  \n",
       "\n",
       "[4139 rows x 11 columns]"
      ]
     },
     "execution_count": 84,
     "metadata": {},
     "output_type": "execute_result"
    }
   ],
   "source": [
    "df= pd.read_csv('datasets/Fuentes_Consumo_Energia.csv',sep=',')\n",
    "df.dropna()"
   ]
  },
  {
   "cell_type": "code",
   "execution_count": 82,
   "metadata": {},
   "outputs": [
    {
     "name": "stdout",
     "output_type": "stream",
     "text": [
      "<class 'pandas.core.frame.DataFrame'>\n",
      "RangeIndex: 5190 entries, 0 to 5189\n",
      "Data columns (total 11 columns):\n",
      " #   Column                  Non-Null Count  Dtype  \n",
      "---  ------                  --------------  -----  \n",
      " 0   Entity                  5190 non-null   object \n",
      " 1   Code                    4145 non-null   object \n",
      " 2   Year                    5190 non-null   int64  \n",
      " 3   Coal_Consumption_EJ     5170 non-null   float64\n",
      " 4   Gas_Consumption_EJ      5170 non-null   float64\n",
      " 5   Geo_Biomass_Other_TWh   5115 non-null   float64\n",
      " 6   Hydro_Generation_TWh    5170 non-null   float64\n",
      " 7   Nuclear_Generation_TWh  5170 non-null   float64\n",
      " 8   Solar_Generation_TWh    5170 non-null   float64\n",
      " 9   Wind_Generation_TWh     5170 non-null   float64\n",
      " 10  Oil_Consumption_EJ      5184 non-null   float64\n",
      "dtypes: float64(8), int64(1), object(2)\n",
      "memory usage: 446.1+ KB\n"
     ]
    }
   ],
   "source": [
    "df.info()"
   ]
  },
  {
   "cell_type": "code",
   "execution_count": 86,
   "metadata": {},
   "outputs": [
    {
     "data": {
      "text/plain": [
       "(5190,)"
      ]
     },
     "execution_count": 86,
     "metadata": {},
     "output_type": "execute_result"
    }
   ],
   "source": [
    "Contar_years=df['Year'].shape\n",
    "Contar_years"
   ]
  },
  {
   "cell_type": "code",
   "execution_count": 88,
   "metadata": {},
   "outputs": [
    {
     "name": "stdout",
     "output_type": "stream",
     "text": [
      "5190\n"
     ]
    }
   ],
   "source": [
    "print(int(Contar_years[0]))"
   ]
  },
  {
   "cell_type": "code",
   "execution_count": null,
   "metadata": {},
   "outputs": [],
   "source": [
    "def Ret_Pregunta03():\n",
    "    Contar_years=df['Year'].dropna().shape[0]\n",
    "    return(int(Contar_years[0]))"
   ]
  },
  {
   "attachments": {},
   "cell_type": "markdown",
   "metadata": {},
   "source": [
    "### Ejercicio 4"
   ]
  },
  {
   "cell_type": "code",
   "execution_count": null,
   "metadata": {},
   "outputs": [],
   "source": [
    "    # Debes utilizar Pandas para ingestar en un objeto Dataframe el contenido del archivo provisto\n",
    "    # \"Fuentes_Consumo_Energia.csv\".\n",
    "    # El ExaJulio es una unidad diferentes al TWh, es decir, no tiene sentido sumarlos o\n",
    "    # buscar proporciones entre ellos, la fórmula de conversión es:\n",
    "    # 277.778 Teravatios/Hora (TWh) = 1 Exajulio\n",
    "    # Los campos terminados en \"_EJ\" corresponden a mediciones en Exajulios,\n",
    "    # y los terminados en \"_TWh\" corresponden a Teravatios/Hora.\n",
    "    # La consigna es crear un nuevo campo, que se denomine \"Consumo_Total\"\n",
    "    # y que guarde la sumatoria de todos los consumos expresados en Teravatios/Hora\n",
    "    # (convirtiendo a esta medida los que están en Exajulios)\n",
    "    # Esta función debe informar el consumo total para la entidad 'World' y año '2019',\n",
    "    # redondeado a 2 decimales, retornando ese valor en un dato de tipo float."
   ]
  },
  {
   "cell_type": "code",
   "execution_count": 112,
   "metadata": {},
   "outputs": [
    {
     "data": {
      "text/html": [
       "<div>\n",
       "<style scoped>\n",
       "    .dataframe tbody tr th:only-of-type {\n",
       "        vertical-align: middle;\n",
       "    }\n",
       "\n",
       "    .dataframe tbody tr th {\n",
       "        vertical-align: top;\n",
       "    }\n",
       "\n",
       "    .dataframe thead th {\n",
       "        text-align: right;\n",
       "    }\n",
       "</style>\n",
       "<table border=\"1\" class=\"dataframe\">\n",
       "  <thead>\n",
       "    <tr style=\"text-align: right;\">\n",
       "      <th></th>\n",
       "      <th>Entity</th>\n",
       "      <th>Code</th>\n",
       "      <th>Year</th>\n",
       "      <th>Coal_Consumption_EJ</th>\n",
       "      <th>Gas_Consumption_EJ</th>\n",
       "      <th>Geo_Biomass_Other_TWh</th>\n",
       "      <th>Hydro_Generation_TWh</th>\n",
       "      <th>Nuclear_Generation_TWh</th>\n",
       "      <th>Solar_Generation_TWh</th>\n",
       "      <th>Wind_Generation_TWh</th>\n",
       "      <th>Oil_Consumption_EJ</th>\n",
       "    </tr>\n",
       "  </thead>\n",
       "  <tbody>\n",
       "    <tr>\n",
       "      <th>4653</th>\n",
       "      <td>Turkey</td>\n",
       "      <td>TUR</td>\n",
       "      <td>1993</td>\n",
       "      <td>0.661347</td>\n",
       "      <td>0.170695</td>\n",
       "      <td>0.134000</td>\n",
       "      <td>33.950900</td>\n",
       "      <td>0.000</td>\n",
       "      <td>0.0</td>\n",
       "      <td>0.00000</td>\n",
       "      <td>1.165534</td>\n",
       "    </tr>\n",
       "    <tr>\n",
       "      <th>2093</th>\n",
       "      <td>Ireland</td>\n",
       "      <td>IRL</td>\n",
       "      <td>1998</td>\n",
       "      <td>0.119549</td>\n",
       "      <td>0.117565</td>\n",
       "      <td>0.085015</td>\n",
       "      <td>0.916000</td>\n",
       "      <td>0.000</td>\n",
       "      <td>0.0</td>\n",
       "      <td>0.16903</td>\n",
       "      <td>0.315612</td>\n",
       "    </tr>\n",
       "    <tr>\n",
       "      <th>4084</th>\n",
       "      <td>South &amp; Central America</td>\n",
       "      <td>NaN</td>\n",
       "      <td>1974</td>\n",
       "      <td>0.310592</td>\n",
       "      <td>0.874640</td>\n",
       "      <td>2.378219</td>\n",
       "      <td>106.896427</td>\n",
       "      <td>1.062</td>\n",
       "      <td>0.0</td>\n",
       "      <td>0.00000</td>\n",
       "      <td>5.887116</td>\n",
       "    </tr>\n",
       "  </tbody>\n",
       "</table>\n",
       "</div>"
      ],
      "text/plain": [
       "                       Entity Code  Year  Coal_Consumption_EJ  \\\n",
       "4653                   Turkey  TUR  1993             0.661347   \n",
       "2093                  Ireland  IRL  1998             0.119549   \n",
       "4084  South & Central America  NaN  1974             0.310592   \n",
       "\n",
       "      Gas_Consumption_EJ  Geo_Biomass_Other_TWh  Hydro_Generation_TWh  \\\n",
       "4653            0.170695               0.134000             33.950900   \n",
       "2093            0.117565               0.085015              0.916000   \n",
       "4084            0.874640               2.378219            106.896427   \n",
       "\n",
       "      Nuclear_Generation_TWh  Solar_Generation_TWh  Wind_Generation_TWh  \\\n",
       "4653                   0.000                   0.0              0.00000   \n",
       "2093                   0.000                   0.0              0.16903   \n",
       "4084                   1.062                   0.0              0.00000   \n",
       "\n",
       "      Oil_Consumption_EJ  \n",
       "4653            1.165534  \n",
       "2093            0.315612  \n",
       "4084            5.887116  "
      ]
     },
     "execution_count": 112,
     "metadata": {},
     "output_type": "execute_result"
    }
   ],
   "source": [
    "df= pd.read_csv('datasets/Fuentes_Consumo_Energia.csv',sep=',')\n",
    "df.sample(3)"
   ]
  },
  {
   "cell_type": "code",
   "execution_count": 117,
   "metadata": {},
   "outputs": [
    {
     "data": {
      "text/html": [
       "<div>\n",
       "<style scoped>\n",
       "    .dataframe tbody tr th:only-of-type {\n",
       "        vertical-align: middle;\n",
       "    }\n",
       "\n",
       "    .dataframe tbody tr th {\n",
       "        vertical-align: top;\n",
       "    }\n",
       "\n",
       "    .dataframe thead th {\n",
       "        text-align: right;\n",
       "    }\n",
       "</style>\n",
       "<table border=\"1\" class=\"dataframe\">\n",
       "  <thead>\n",
       "    <tr style=\"text-align: right;\">\n",
       "      <th></th>\n",
       "      <th>Entity</th>\n",
       "      <th>Code</th>\n",
       "      <th>Year</th>\n",
       "      <th>Coal_Consumption_EJ</th>\n",
       "      <th>Gas_Consumption_EJ</th>\n",
       "      <th>Geo_Biomass_Other_TWh</th>\n",
       "      <th>Hydro_Generation_TWh</th>\n",
       "      <th>Nuclear_Generation_TWh</th>\n",
       "      <th>Solar_Generation_TWh</th>\n",
       "      <th>Wind_Generation_TWh</th>\n",
       "      <th>Oil_Consumption_EJ</th>\n",
       "      <th>Consumo_Total</th>\n",
       "    </tr>\n",
       "  </thead>\n",
       "  <tbody>\n",
       "    <tr>\n",
       "      <th>0</th>\n",
       "      <td>Africa</td>\n",
       "      <td>NaN</td>\n",
       "      <td>1965</td>\n",
       "      <td>1.164586</td>\n",
       "      <td>0.034358</td>\n",
       "      <td>0.0</td>\n",
       "      <td>13.905635</td>\n",
       "      <td>0.0</td>\n",
       "      <td>0.0</td>\n",
       "      <td>0.0</td>\n",
       "      <td>1.173241</td>\n",
       "      <td>672.846431</td>\n",
       "    </tr>\n",
       "    <tr>\n",
       "      <th>1</th>\n",
       "      <td>Africa</td>\n",
       "      <td>NaN</td>\n",
       "      <td>1966</td>\n",
       "      <td>1.163240</td>\n",
       "      <td>0.038412</td>\n",
       "      <td>0.0</td>\n",
       "      <td>15.510004</td>\n",
       "      <td>0.0</td>\n",
       "      <td>0.0</td>\n",
       "      <td>0.0</td>\n",
       "      <td>1.284154</td>\n",
       "      <td>706.012010</td>\n",
       "    </tr>\n",
       "    <tr>\n",
       "      <th>2</th>\n",
       "      <td>Africa</td>\n",
       "      <td>NaN</td>\n",
       "      <td>1967</td>\n",
       "      <td>1.189050</td>\n",
       "      <td>0.037964</td>\n",
       "      <td>0.0</td>\n",
       "      <td>16.190636</td>\n",
       "      <td>0.0</td>\n",
       "      <td>0.0</td>\n",
       "      <td>0.0</td>\n",
       "      <td>1.273799</td>\n",
       "      <td>710.861484</td>\n",
       "    </tr>\n",
       "  </tbody>\n",
       "</table>\n",
       "</div>"
      ],
      "text/plain": [
       "   Entity Code  Year  Coal_Consumption_EJ  Gas_Consumption_EJ  \\\n",
       "0  Africa  NaN  1965             1.164586            0.034358   \n",
       "1  Africa  NaN  1966             1.163240            0.038412   \n",
       "2  Africa  NaN  1967             1.189050            0.037964   \n",
       "\n",
       "   Geo_Biomass_Other_TWh  Hydro_Generation_TWh  Nuclear_Generation_TWh  \\\n",
       "0                    0.0             13.905635                     0.0   \n",
       "1                    0.0             15.510004                     0.0   \n",
       "2                    0.0             16.190636                     0.0   \n",
       "\n",
       "   Solar_Generation_TWh  Wind_Generation_TWh  Oil_Consumption_EJ  \\\n",
       "0                   0.0                  0.0            1.173241   \n",
       "1                   0.0                  0.0            1.284154   \n",
       "2                   0.0                  0.0            1.273799   \n",
       "\n",
       "   Consumo_Total  \n",
       "0     672.846431  \n",
       "1     706.012010  \n",
       "2     710.861484  "
      ]
     },
     "execution_count": 117,
     "metadata": {},
     "output_type": "execute_result"
    }
   ],
   "source": [
    "df['Consumo_Total']=((df['Coal_Consumption_EJ']+df['Gas_Consumption_EJ']+df['Oil_Consumption_EJ'])*277.778 \n",
    "                     + df['Geo_Biomass_Other_TWh']+df['Hydro_Generation_TWh']+df['Nuclear_Generation_TWh']\n",
    "                     +df['Solar_Generation_TWh']+df['Wind_Generation_TWh'])\n",
    "df.head(3)"
   ]
  },
  {
   "cell_type": "code",
   "execution_count": 97,
   "metadata": {},
   "outputs": [
    {
     "data": {
      "text/plain": [
       "Entity    Code      Year  Coal_Consumption_EJ  Gas_Consumption_EJ  Geo_Biomass_Other_TWh  Hydro_Generation_TWh  Nuclear_Generation_TWh  Solar_Generation_TWh  Wind_Generation_TWh  Oil_Consumption_EJ  Consumo_Total\n",
       "Algeria   DZA       1965  0.002931             0.026750            0.000000               0.400000              0.000000                0.000000              0.000000             0.055459            15.834945        1\n",
       "Portugal  PRT       2006  0.138293             0.148264            1.789000               10.919000             0.000000                0.005000              2.925000             0.609417            185.207229       1\n",
       "                    1976  0.016747             0.000000            0.230000               4.787000              0.000000                0.000000              0.000000             0.306680            90.222752        1\n",
       "                    1977  0.015198             0.000000            0.234000               9.966000              0.000000                0.000000              0.000000             0.303425            94.500034        1\n",
       "                    1978  0.017920             0.000000            0.232000               10.811000             0.000000                0.000000              0.000000             0.314466            98.412612        1\n",
       "                                                                                                                                                                                                                       ..\n",
       "Hungary   HUN       2011  0.113571             0.392887            1.859000               0.222000              15.685026               0.001000              0.626000             0.300875            102.475904       1\n",
       "                    2012  0.109273             0.350639            1.655000               0.213000              15.793014               0.008000              0.771181             0.277480            95.977971        1\n",
       "                    2013  0.095677             0.326885            1.832000               0.213000              15.369604               0.025000              0.717905             0.273840            94.646721        1\n",
       "                    2014  0.094576             0.292306            2.126000               0.301000              15.648624               0.067000              0.656540             0.304687            103.821395       1\n",
       "World     OWID_WRL  2019  157.857047           141.452770          651.811211             4222.214992           2795.961529             724.086506            1429.619982          193.031574          63742.928710     1\n",
       "Length: 4139, dtype: int64"
      ]
     },
     "execution_count": 97,
     "metadata": {},
     "output_type": "execute_result"
    }
   ],
   "source": [
    "df.value_counts()"
   ]
  },
  {
   "cell_type": "code",
   "execution_count": 100,
   "metadata": {},
   "outputs": [
    {
     "name": "stdout",
     "output_type": "stream",
     "text": [
      "<class 'pandas.core.frame.DataFrame'>\n",
      "RangeIndex: 5190 entries, 0 to 5189\n",
      "Data columns (total 12 columns):\n",
      " #   Column                  Non-Null Count  Dtype  \n",
      "---  ------                  --------------  -----  \n",
      " 0   Entity                  5190 non-null   object \n",
      " 1   Code                    4145 non-null   object \n",
      " 2   Year                    5190 non-null   int64  \n",
      " 3   Coal_Consumption_EJ     5170 non-null   float64\n",
      " 4   Gas_Consumption_EJ      5170 non-null   float64\n",
      " 5   Geo_Biomass_Other_TWh   5115 non-null   float64\n",
      " 6   Hydro_Generation_TWh    5170 non-null   float64\n",
      " 7   Nuclear_Generation_TWh  5170 non-null   float64\n",
      " 8   Solar_Generation_TWh    5170 non-null   float64\n",
      " 9   Wind_Generation_TWh     5170 non-null   float64\n",
      " 10  Oil_Consumption_EJ      5184 non-null   float64\n",
      " 11  Consumo_Total           5109 non-null   float64\n",
      "dtypes: float64(9), int64(1), object(2)\n",
      "memory usage: 486.7+ KB\n"
     ]
    }
   ],
   "source": [
    "df.info()"
   ]
  },
  {
   "cell_type": "code",
   "execution_count": 114,
   "metadata": {},
   "outputs": [],
   "source": [
    "mascara_w_2019=(df['Entity']=='World') & (df['Year']==2019)"
   ]
  },
  {
   "cell_type": "code",
   "execution_count": 128,
   "metadata": {},
   "outputs": [
    {
     "name": "stdout",
     "output_type": "stream",
     "text": [
      "146585.3\n"
     ]
    }
   ],
   "source": [
    "print(round(float(df[mascara_w_2019].Consumo_Total),2))"
   ]
  },
  {
   "cell_type": "code",
   "execution_count": null,
   "metadata": {},
   "outputs": [],
   "source": [
    "def Ret_Pregunta04():\n",
    "    df['Consumo_Total']=((df['Coal_Consumption_EJ']+df['Gas_Consumption_EJ']+df['Oil_Consumption_EJ'])*277.778 \n",
    "                     + df['Geo_Biomass_Other_TWh']+df['Hydro_Generation_TWh']+df['Nuclear_Generation_TWh']\n",
    "                     +df['Solar_Generation_TWh']+df['Wind_Generation_TWh'])\n",
    "    mascara_w_2019=(df['Entity']=='World') & (df['Year']==2019)\n",
    "    return round(float(df[mascara_w_2019].Consumo_Total),2)\n",
    "    "
   ]
  },
  {
   "attachments": {},
   "cell_type": "markdown",
   "metadata": {},
   "source": [
    "## Ejercicio 5"
   ]
  },
  {
   "cell_type": "code",
   "execution_count": null,
   "metadata": {},
   "outputs": [],
   "source": [
    "# Debes utilizar Pandas para ingestar en un objeto Dataframe el contenido del archivo provisto\n",
    "# Fuentes_Consumo_Energia.csv\".\n",
    "# Esta función debe informar el año de mayor generación de energía hídrica (Hydro_Generation_TWh)\n",
    "# para la entidad 'Europe' retornando ese valor en un dato de tipo entero."
   ]
  },
  {
   "cell_type": "code",
   "execution_count": null,
   "metadata": {},
   "outputs": [],
   "source": [
    "df= pd.read_csv('datasets/Fuentes_Consumo_Energia.csv',sep=',')"
   ]
  },
  {
   "cell_type": "code",
   "execution_count": 135,
   "metadata": {},
   "outputs": [
    {
     "data": {
      "text/plain": [
       "Index(['Entity', 'Code', 'Year', 'Coal_Consumption_EJ', 'Gas_Consumption_EJ',\n",
       "       'Geo_Biomass_Other_TWh', 'Hydro_Generation_TWh',\n",
       "       'Nuclear_Generation_TWh', 'Solar_Generation_TWh', 'Wind_Generation_TWh',\n",
       "       'Oil_Consumption_EJ', 'Consumo_Total'],\n",
       "      dtype='object')"
      ]
     },
     "execution_count": 135,
     "metadata": {},
     "output_type": "execute_result"
    }
   ],
   "source": [
    "df.columns"
   ]
  },
  {
   "cell_type": "code",
   "execution_count": 166,
   "metadata": {},
   "outputs": [],
   "source": [
    "Energ_Hid=df[(df['Entity']=='Europe')]"
   ]
  },
  {
   "cell_type": "code",
   "execution_count": 175,
   "metadata": {},
   "outputs": [
    {
     "data": {
      "text/plain": [
       "1393"
      ]
     },
     "execution_count": 175,
     "metadata": {},
     "output_type": "execute_result"
    }
   ],
   "source": [
    "anio=Energ_Hid.Hydro_Generation_TWh.idxmax()\n",
    "anio"
   ]
  },
  {
   "cell_type": "code",
   "execution_count": 177,
   "metadata": {},
   "outputs": [
    {
     "name": "stdout",
     "output_type": "stream",
     "text": [
      "2013\n"
     ]
    }
   ],
   "source": [
    "print(df.Year[anio])"
   ]
  },
  {
   "cell_type": "code",
   "execution_count": null,
   "metadata": {},
   "outputs": [],
   "source": [
    "def Ret_Pregunta05():\n",
    "    Energ_Hid=df[(df['Entity']=='Europe')]\n",
    "    anio=Energ_Hid.Hydro_Generation_TWh.idxmax()\n",
    "    return df.Year[anio]\n"
   ]
  },
  {
   "attachments": {},
   "cell_type": "markdown",
   "metadata": {},
   "source": [
    "## Ejercicio 6"
   ]
  },
  {
   "cell_type": "code",
   "execution_count": null,
   "metadata": {},
   "outputs": [],
   "source": [
    "# Esta función recibe tres array de Numpy de 2 dimensiones cada uno, y devuelve el valor booleano\n",
    "#     True si es posible realizar una multiplicación entre las tres matrices (n1 x n2 x n3),\n",
    "#     y el valor booleano False si no lo es\n",
    "#     Ej:\n",
    "#         n1 = np.array([[0,0,0],[1,1,1],[2,2,2]])\n",
    "#         n2 = np.array([[3,3],[4,4],[5,5]])\n",
    "#         n3 = np.array([1,1],[2,2])\n",
    "#         print(Ret_Pregunta06(n1,n2,n3))\n",
    "#             True            -> Valor devuelto por la función en este ejemplo\n",
    "#         print(Ret_Pregunta06(n2,n1,n3))\n",
    "#             False            -> Valor devuelto por la función en este ejemplo"
   ]
  },
  {
   "cell_type": "code",
   "execution_count": 186,
   "metadata": {},
   "outputs": [],
   "source": [
    "def Ret_Pregunta06(m1, m2, m3):\n",
    "    if m1.shape[1]== m2.shape[0]:\n",
    "        if np.dot(m1,m2).shape[1]==m3.shape[0]:\n",
    "            return True\n",
    "        else:\n",
    "            return False\n",
    "    else:\n",
    "        return False"
   ]
  },
  {
   "cell_type": "code",
   "execution_count": 184,
   "metadata": {},
   "outputs": [],
   "source": [
    "m1 = np.array([[0,0,0],[1,1,1],[2,2,2]])\n",
    "m2 = np.array([[3,3],[4,4]])\n",
    "m3 = np.array([[1,1],[2,2]])"
   ]
  },
  {
   "cell_type": "code",
   "execution_count": 187,
   "metadata": {},
   "outputs": [
    {
     "data": {
      "text/plain": [
       "False"
      ]
     },
     "execution_count": 187,
     "metadata": {},
     "output_type": "execute_result"
    }
   ],
   "source": [
    "Ret_Pregunta06(m1,m2,m3)"
   ]
  },
  {
   "attachments": {},
   "cell_type": "markdown",
   "metadata": {},
   "source": [
    "## Ejercicio 7"
   ]
  },
  {
   "cell_type": "code",
   "execution_count": null,
   "metadata": {},
   "outputs": [],
   "source": [
    "# Debes utilizar Pandas para ingestar en un objeto Dataframe el contenido del archivo provisto\n",
    "#     \"Fuentes_Consumo_Energia.csv\".\n",
    "#     Esta función debe informar cuál de la siguiente lista de países tuvo mayor generacíon de\n",
    "#     energía hìdrica (Hydro_Generation_TWh) en el año 2019:\n",
    "#         * Argentina\n",
    "#         * Brazil\n",
    "#         * Chile\n",
    "#         * Colombia\n",
    "#         * Ecuador\n",
    "#         * Mexico\n",
    "#         * Peru\n",
    "#     Debe retornar el valor en un dato de tipo string."
   ]
  },
  {
   "cell_type": "code",
   "execution_count": 203,
   "metadata": {},
   "outputs": [],
   "source": [
    "df=pd.read_csv('datasets/Fuentes_Consumo_Energia.csv',sep=',')"
   ]
  },
  {
   "cell_type": "code",
   "execution_count": 226,
   "metadata": {},
   "outputs": [],
   "source": [
    "mask= (df['Entity']=='Argentina') | (df['Entity']=='Brazil') | (df['Entity']=='Chile') | (df['Entity']=='Colombia')|(df['Entity']=='Ecuador')| (df['Entity']=='Mexico') | (df['Entity']=='Peru')"
   ]
  },
  {
   "cell_type": "code",
   "execution_count": 228,
   "metadata": {},
   "outputs": [],
   "source": [
    "df2=df[mask]"
   ]
  },
  {
   "cell_type": "code",
   "execution_count": 229,
   "metadata": {},
   "outputs": [],
   "source": [
    "mask2=(df2['Year']==2019)"
   ]
  },
  {
   "cell_type": "code",
   "execution_count": 233,
   "metadata": {},
   "outputs": [],
   "source": [
    "df3=df2[mask2]\n"
   ]
  },
  {
   "cell_type": "code",
   "execution_count": 237,
   "metadata": {},
   "outputs": [
    {
     "name": "stdout",
     "output_type": "stream",
     "text": [
      "Brazil\n"
     ]
    }
   ],
   "source": [
    "mask3=df3.Hydro_Generation_TWh.idxmax()\n",
    "print(str(df3.Entity[mask3]))"
   ]
  },
  {
   "cell_type": "code",
   "execution_count": null,
   "metadata": {},
   "outputs": [],
   "source": [
    "def Ret_Pregunta07():\n",
    "    mask= (df['Entity']=='Argentina') | (df['Entity']=='Brazil') | (df['Entity']=='Chile') | (df['Entity']=='Colombia')|(df['Entity']=='Ecuador')| (df['Entity']=='Mexico') | (df['Entity']=='Peru')\n",
    "    df2=df[mask]\n",
    "    mask2=(df2['Year']==2019)\n",
    "    df3=df2[mask2]\n",
    "    mask3=df3.Hydro_Generation_TWh.idxmax()\n",
    "    return str(df3.Entity[mask3])"
   ]
  },
  {
   "attachments": {},
   "cell_type": "markdown",
   "metadata": {},
   "source": [
    "## Ejercicio 8"
   ]
  },
  {
   "cell_type": "code",
   "execution_count": null,
   "metadata": {},
   "outputs": [],
   "source": [
    "# Debes utilizar Pandas para ingestar en un objeto Dataframe el contenido del archivo provisto\n",
    "#     \"Fuentes_Consumo_Energia.csv\".\n",
    "#     Esta función debe informar la cantidad de entidades diferentes que están presentes en el dataset\n",
    "#     retornando ese valor en un dato de tipo entero."
   ]
  },
  {
   "cell_type": "code",
   "execution_count": 238,
   "metadata": {},
   "outputs": [],
   "source": [
    "df=pd.read_csv('datasets/Fuentes_Consumo_Energia.csv', sep=',')"
   ]
  },
  {
   "cell_type": "code",
   "execution_count": 247,
   "metadata": {},
   "outputs": [
    {
     "data": {
      "text/plain": [
       "array(['Africa', 'Algeria', 'Argentina', 'Asia Pacific', 'Australia',\n",
       "       'Austria', 'Azerbaijan', 'Bangladesh', 'Belarus', 'Belgium',\n",
       "       'Brazil', 'Bulgaria', 'CIS', 'Canada', 'Central America', 'Chile',\n",
       "       'China', 'Colombia', 'Croatia', 'Cyprus', 'Czech Republic',\n",
       "       'Denmark', 'Eastern Africa', 'Ecuador', 'Egypt', 'Estonia',\n",
       "       'Europe', 'Europe (other)', 'Finland', 'France', 'Germany',\n",
       "       'Greece', 'Hong Kong', 'Hungary', 'Iceland', 'India', 'Indonesia',\n",
       "       'Iran', 'Iraq', 'Ireland', 'Israel', 'Italy', 'Japan',\n",
       "       'Kazakhstan', 'Kuwait', 'Latvia', 'Lithuania', 'Luxembourg',\n",
       "       'Macedonia', 'Malaysia', 'Mexico', 'Middle Africa', 'Middle East',\n",
       "       'Morocco', 'Netherlands', 'New Zealand', 'North America', 'Norway',\n",
       "       'Oman', 'Other Asia & Pacific', 'Other CIS', 'Other Caribbean',\n",
       "       'Other Middle East', 'Other Northern Africa',\n",
       "       'Other South America', 'Other Southern Africa', 'Pakistan', 'Peru',\n",
       "       'Philippines', 'Poland', 'Portugal', 'Qatar', 'Romania', 'Russia',\n",
       "       'Saudi Arabia', 'Singapore', 'Slovakia', 'Slovenia',\n",
       "       'South & Central America', 'South Africa', 'South Korea', 'Spain',\n",
       "       'Sri Lanka', 'Sweden', 'Switzerland', 'Taiwan', 'Thailand',\n",
       "       'Trinidad and Tobago', 'Turkey', 'Turkmenistan', 'USSR', 'Ukraine',\n",
       "       'United Arab Emirates', 'United Kingdom', 'United States',\n",
       "       'Uzbekistan', 'Venezuela', 'Vietnam', 'Western Africa', 'World'],\n",
       "      dtype=object)"
      ]
     },
     "execution_count": 247,
     "metadata": {},
     "output_type": "execute_result"
    }
   ],
   "source": [
    "df['Entity'].unique()"
   ]
  },
  {
   "cell_type": "code",
   "execution_count": 253,
   "metadata": {},
   "outputs": [
    {
     "data": {
      "text/plain": [
       "100"
      ]
     },
     "execution_count": 253,
     "metadata": {},
     "output_type": "execute_result"
    }
   ],
   "source": [
    "df['Entity'].unique().size"
   ]
  },
  {
   "cell_type": "code",
   "execution_count": null,
   "metadata": {},
   "outputs": [],
   "source": [
    "def Ret_Pregunta08():\n",
    "    df['Entity'].unique().size"
   ]
  },
  {
   "attachments": {},
   "cell_type": "markdown",
   "metadata": {},
   "source": [
    "### Ejercicio 9"
   ]
  },
  {
   "cell_type": "code",
   "execution_count": null,
   "metadata": {},
   "outputs": [],
   "source": [
    "# Debes utilizar Pandas para ingestar en un objeto Dataframe el contenido del archivo provisto\n",
    "#     \"datasets/Tabla1_ejercicio.csv\" y \"datasets/Tabla2_ejercicio.csv\".\n",
    "#     Esta función debe informar: score_promedio_femenino y score_promedio_masculino en formato tupla"
   ]
  },
  {
   "cell_type": "code",
   "execution_count": 254,
   "metadata": {},
   "outputs": [],
   "source": [
    "df1=pd.read_csv('datasets/Tabla1_ejercicio.csv', sep=';')\n",
    "df2=pd.read_csv('datasets/Tabla2_ejercicio.csv', sep=';')"
   ]
  },
  {
   "cell_type": "code",
   "execution_count": 259,
   "metadata": {},
   "outputs": [
    {
     "data": {
      "text/html": [
       "<div>\n",
       "<style scoped>\n",
       "    .dataframe tbody tr th:only-of-type {\n",
       "        vertical-align: middle;\n",
       "    }\n",
       "\n",
       "    .dataframe tbody tr th {\n",
       "        vertical-align: top;\n",
       "    }\n",
       "\n",
       "    .dataframe thead th {\n",
       "        text-align: right;\n",
       "    }\n",
       "</style>\n",
       "<table border=\"1\" class=\"dataframe\">\n",
       "  <thead>\n",
       "    <tr style=\"text-align: right;\">\n",
       "      <th></th>\n",
       "      <th>pers_id</th>\n",
       "      <th>sexo</th>\n",
       "      <th>edad</th>\n",
       "      <th>ingreso</th>\n",
       "      <th>situacion_lab</th>\n",
       "      <th>periodo</th>\n",
       "      <th>score</th>\n",
       "    </tr>\n",
       "  </thead>\n",
       "  <tbody>\n",
       "    <tr>\n",
       "      <th>0</th>\n",
       "      <td>71906556521</td>\n",
       "      <td>F</td>\n",
       "      <td>47</td>\n",
       "      <td>35926.28125</td>\n",
       "      <td>Sin_situacion_declarada</td>\n",
       "      <td>201906</td>\n",
       "      <td>919</td>\n",
       "    </tr>\n",
       "    <tr>\n",
       "      <th>2</th>\n",
       "      <td>71906556521</td>\n",
       "      <td>F</td>\n",
       "      <td>47</td>\n",
       "      <td>35926.28125</td>\n",
       "      <td>Sin_situacion_declarada</td>\n",
       "      <td>201909</td>\n",
       "      <td>738</td>\n",
       "    </tr>\n",
       "    <tr>\n",
       "      <th>3</th>\n",
       "      <td>71906556521</td>\n",
       "      <td>F</td>\n",
       "      <td>47</td>\n",
       "      <td>35926.28125</td>\n",
       "      <td>Sin_situacion_declarada</td>\n",
       "      <td>201909</td>\n",
       "      <td>919</td>\n",
       "    </tr>\n",
       "    <tr>\n",
       "      <th>4</th>\n",
       "      <td>71906556521</td>\n",
       "      <td>F</td>\n",
       "      <td>47</td>\n",
       "      <td>35926.28125</td>\n",
       "      <td>Sin_situacion_declarada</td>\n",
       "      <td>201912</td>\n",
       "      <td>919</td>\n",
       "    </tr>\n",
       "    <tr>\n",
       "      <th>12</th>\n",
       "      <td>73861260912</td>\n",
       "      <td>F</td>\n",
       "      <td>41</td>\n",
       "      <td>16231.12207</td>\n",
       "      <td>Sin_situacion_declarada</td>\n",
       "      <td>201906</td>\n",
       "      <td>557</td>\n",
       "    </tr>\n",
       "  </tbody>\n",
       "</table>\n",
       "</div>"
      ],
      "text/plain": [
       "        pers_id sexo  edad      ingreso            situacion_lab  periodo  \\\n",
       "0   71906556521    F    47  35926.28125  Sin_situacion_declarada   201906   \n",
       "2   71906556521    F    47  35926.28125  Sin_situacion_declarada   201909   \n",
       "3   71906556521    F    47  35926.28125  Sin_situacion_declarada   201909   \n",
       "4   71906556521    F    47  35926.28125  Sin_situacion_declarada   201912   \n",
       "12  73861260912    F    41  16231.12207  Sin_situacion_declarada   201906   \n",
       "\n",
       "    score  \n",
       "0     919  \n",
       "2     738  \n",
       "3     919  \n",
       "4     919  \n",
       "12    557  "
      ]
     },
     "execution_count": 259,
     "metadata": {},
     "output_type": "execute_result"
    }
   ],
   "source": [
    "df_general=pd.merge(df1,df2).drop_duplicates()\n",
    "df_general.head()"
   ]
  },
  {
   "cell_type": "code",
   "execution_count": 272,
   "metadata": {},
   "outputs": [
    {
     "data": {
      "text/plain": [
       "630.26"
      ]
     },
     "execution_count": 272,
     "metadata": {},
     "output_type": "execute_result"
    }
   ],
   "source": [
    "Fem=round(df_general[df_general.sexo=='F'].score.mean(),2)\n",
    "Fem"
   ]
  },
  {
   "cell_type": "code",
   "execution_count": 273,
   "metadata": {},
   "outputs": [
    {
     "data": {
      "text/plain": [
       "772.28"
      ]
     },
     "execution_count": 273,
     "metadata": {},
     "output_type": "execute_result"
    }
   ],
   "source": [
    "Homb=round(df_general[df_general.sexo=='M'].score.mean(),2)\n",
    "Homb"
   ]
  },
  {
   "cell_type": "code",
   "execution_count": 274,
   "metadata": {},
   "outputs": [
    {
     "data": {
      "text/plain": [
       "(630.26, 772.28)"
      ]
     },
     "execution_count": 274,
     "metadata": {},
     "output_type": "execute_result"
    }
   ],
   "source": [
    "Media=(Fem,Homb)\n",
    "Media"
   ]
  },
  {
   "cell_type": "code",
   "execution_count": null,
   "metadata": {},
   "outputs": [],
   "source": [
    "def Ret_Pregunta09():\n",
    "    df1=pd.read_csv('datasets/Tabla1_ejercicio.csv', sep=';')\n",
    "    df2=pd.read_csv('datasets/Tabla2_ejercicio.csv', sep=';')\n",
    "    df_general=pd.merge(df1,df2).drop_duplicates()\n",
    "    Fem=round(df_general[df_general.sexo=='F'].score.mean(),2)\n",
    "    Homb=round(df_general[df_general.sexo=='M'].score.mean(),2)\n",
    "    Media=(Fem,Homb)\n",
    "    return Media"
   ]
  },
  {
   "attachments": {},
   "cell_type": "markdown",
   "metadata": {},
   "source": [
    "### Ejercicio 10"
   ]
  },
  {
   "cell_type": "code",
   "execution_count": null,
   "metadata": {},
   "outputs": [],
   "source": [
    "    # Esta función recibe como parámetro un objeto de la clase Lista() definida en el archivo Lista.py.\n",
    "    # Debe recorrer la lista y retornan la cantidad de nodos que posee. Utilizar el método de la clase\n",
    "    # Lista llamado getCabecera()\n",
    "    # Ejemplo:\n",
    "    #     lis = Lista()\n",
    "    #     lista.agregarElemento(1)\n",
    "    #     lista.agregarElemento(2)\n",
    "    #     lista.agregarElemento(3)\n",
    "    #     print(Ret_Pregunta10(lista))\n",
    "    #         3    -> Debe ser el valor devuelto por la función Ret_Pregunta10() en este ejemplo"
   ]
  },
  {
   "cell_type": "code",
   "execution_count": null,
   "metadata": {},
   "outputs": [],
   "source": [
    "class Nodo():\n",
    "    def __init__(self, dato):\n",
    "        self.__dato = dato\n",
    "        self.__siguiente = None\n",
    "\n",
    "    def getDato(self):\n",
    "        return self.__dato\n",
    "\n",
    "    def getSiguiente(self):\n",
    "        return self.__siguiente\n",
    "\n",
    "    def setDato(self, val):\n",
    "        self.__dato = val\n",
    "\n",
    "    def setSiguiente(self, val):\n",
    "        self.__siguiente = val\n",
    "\n",
    "class Lista():\n",
    "    def __init__(self):\n",
    "        self.__cabecera = None\n",
    "\n",
    "    def agregarElemento(self,dato):\n",
    "        if (self.__cabecera != None):\n",
    "            puntero = self.__cabecera\n",
    "            while(puntero != None):\n",
    "                if(puntero.getSiguiente() == None):\n",
    "                    puntero.setSiguiente(Nodo(dato))\n",
    "                    break\n",
    "                puntero = puntero.getSiguiente()\n",
    "        else:\n",
    "            self.__cabecera = Nodo(dato)\n",
    "\n",
    "    def contarElementos(self):\n",
    "        if (self.__cabecera == None):\n",
    "            return 0\n",
    "        else:\n",
    "            contador = 1\n",
    "            puntero = self.__cabecera\n",
    "            while(puntero.getSiguiente() != None):\n",
    "                contador += 1\n",
    "                puntero = puntero.getSiguiente()\n",
    "            return contador\n",
    "\n",
    "    def getCabecera(self):\n",
    "        return self.__cabecera"
   ]
  },
  {
   "cell_type": "code",
   "execution_count": 282,
   "metadata": {},
   "outputs": [],
   "source": [
    "def Ret_Pregunta10(lista):\n",
    "    nodos=0\n",
    "    elemento = lista.getCabecera()\n",
    "\n",
    "    if elemento != None:\n",
    "        nodos = 1\n",
    "    else:\n",
    "        return 0\n",
    "    while elemento.getSiguiente() != None:\n",
    "        elemento = elemento.getSiguiente()\n",
    "        nodos += 1\n",
    "        return nodos"
   ]
  }
 ],
 "metadata": {
  "kernelspec": {
   "display_name": "Python 3",
   "language": "python",
   "name": "python3"
  },
  "language_info": {
   "codemirror_mode": {
    "name": "ipython",
    "version": 3
   },
   "file_extension": ".py",
   "mimetype": "text/x-python",
   "name": "python",
   "nbconvert_exporter": "python",
   "pygments_lexer": "ipython3",
   "version": "3.10.10"
  },
  "orig_nbformat": 4
 },
 "nbformat": 4,
 "nbformat_minor": 2
}
